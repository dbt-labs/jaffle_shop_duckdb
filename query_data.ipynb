{
 "cells": [
  {
   "cell_type": "code",
   "execution_count": 1,
   "metadata": {},
   "outputs": [],
   "source": [
    "import duckdb\n",
    "# import pandas as pd\n",
    "# No need to import duckdb_engine\n",
    "#  jupysql will auto-detect the driver needed based on the connection string!\n",
    "\n",
    "# Import jupysql Jupyter extension to create SQL cells\n",
    "%load_ext sql"
   ]
  },
  {
   "cell_type": "code",
   "execution_count": 2,
   "metadata": {},
   "outputs": [],
   "source": [
    "%sql duckdb:///jaffle_shop.duckdb"
   ]
  },
  {
   "cell_type": "code",
   "execution_count": 3,
   "metadata": {},
   "outputs": [
    {
     "data": {
      "text/html": [
       "<table>\n",
       "    <thead>\n",
       "        <tr>\n",
       "            <th>Name</th>\n",
       "        </tr>\n",
       "    </thead>\n",
       "    <tbody>\n",
       "        <tr>\n",
       "            <td>raw_customers</td>\n",
       "        </tr>\n",
       "        <tr>\n",
       "            <td>raw_orders</td>\n",
       "        </tr>\n",
       "        <tr>\n",
       "            <td>raw_payments</td>\n",
       "        </tr>\n",
       "        <tr>\n",
       "            <td>stg_customers</td>\n",
       "        </tr>\n",
       "        <tr>\n",
       "            <td>stg_orders_wap</td>\n",
       "        </tr>\n",
       "        <tr>\n",
       "            <td>stg_payments</td>\n",
       "        </tr>\n",
       "    </tbody>\n",
       "</table>"
      ],
      "text/plain": [
       "+----------------+\n",
       "|      Name      |\n",
       "+----------------+\n",
       "| raw_customers  |\n",
       "|   raw_orders   |\n",
       "|  raw_payments  |\n",
       "| stg_customers  |\n",
       "| stg_orders_wap |\n",
       "|  stg_payments  |\n",
       "+----------------+"
      ]
     },
     "execution_count": 3,
     "metadata": {},
     "output_type": "execute_result"
    }
   ],
   "source": [
    "%sqlcmd tables"
   ]
  }
 ],
 "metadata": {
  "kernelspec": {
   "display_name": "venv",
   "language": "python",
   "name": "python3"
  },
  "language_info": {
   "codemirror_mode": {
    "name": "ipython",
    "version": 3
   },
   "file_extension": ".py",
   "mimetype": "text/x-python",
   "name": "python",
   "nbconvert_exporter": "python",
   "pygments_lexer": "ipython3",
   "version": "3.8.12"
  },
  "orig_nbformat": 4
 },
 "nbformat": 4,
 "nbformat_minor": 2
}
